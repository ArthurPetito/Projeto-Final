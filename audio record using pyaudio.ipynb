{
 "cells": [
  {
   "cell_type": "code",
   "execution_count": null,
   "id": "d49a0c2e",
   "metadata": {},
   "outputs": [],
   "source": [
    "#from playsound import playsound\n",
    "import simpleaudio as sa\n",
    "\n",
    "#playsound('Symphony No.6 (1st movement).mp3')\n",
    "\n",
    "file = 'hello its me.mp3'\n",
    "wave_obj= \n"
   ]
  },
  {
   "cell_type": "code",
   "execution_count": 7,
   "id": "6419716b",
   "metadata": {},
   "outputs": [
    {
     "name": "stdout",
     "output_type": "stream",
     "text": [
      "Recording...\n",
      "DONE!\n"
     ]
    }
   ],
   "source": [
    "import pyaudio as pa\n",
    "import wave\n",
    "\n",
    "CHUNK = 1024 # record in chunks of 1024 samples\n",
    "SAMPLE_FORMAT = pa.paInt16 # 16bits per samplee\n",
    "CHANNELS = 2\n",
    "FS = 44100 #frequency\n",
    "SECONDS = 14\n",
    "FILENAME = \"output.wav\"\n",
    "\n",
    "p = pa.PyAudio() #create interface to PortAudio\n",
    "\n",
    "print('Recording...')\n",
    "\n",
    "stream = p.open(format = SAMPLE_FORMAT,\n",
    "               channels = CHANNELS,\n",
    "               rate = FS,\n",
    "               frames_per_buffer = CHUNK,\n",
    "               input=True)\n",
    "\n",
    "frames =[] #initialize  array to store frames\n",
    "\n",
    "#storing data during 3s\n",
    "for i in range(0, int(FS/CHUNK*SECONDS)):\n",
    "    data = stream.read(CHUNK)\n",
    "    frames.append(data)\n",
    "\n",
    "#stop and close the stream\n",
    "stream.stop_stream()\n",
    "stream.close()\n",
    "#close PorAudio Interface\n",
    "p.terminate()\n",
    "\n",
    "\n",
    "#saving the recorded data as a WAV file\n",
    "wf = wave.open(FILENAME, 'wb')\n",
    "wf.setnchannels(CHANNELS)\n",
    "wf.setsampwidth(p.get_sample_size(SAMPLE_FORMAT))\n",
    "wf.setframerate(FS)\n",
    "wf.writeframes(b''.join(frames))\n",
    "wf.close()\n",
    "\n",
    "print(\"DONE!\")\n",
    "\n",
    "\n",
    "\n"
   ]
  },
  {
   "cell_type": "code",
   "execution_count": 6,
   "id": "e63dd72d",
   "metadata": {},
   "outputs": [
    {
     "name": "stdout",
     "output_type": "stream",
     "text": [
      "DONE!\n"
     ]
    }
   ],
   "source": [
    "import playsound\n",
    "\n",
    "playsound = 'output.wav'\n",
    "print('DONE!')"
   ]
  },
  {
   "cell_type": "code",
   "execution_count": null,
   "id": "5810ffc9",
   "metadata": {},
   "outputs": [],
   "source": []
  }
 ],
 "metadata": {
  "kernelspec": {
   "display_name": "Python 3 (ipykernel)",
   "language": "python",
   "name": "python3"
  },
  "language_info": {
   "codemirror_mode": {
    "name": "ipython",
    "version": 3
   },
   "file_extension": ".py",
   "mimetype": "text/x-python",
   "name": "python",
   "nbconvert_exporter": "python",
   "pygments_lexer": "ipython3",
   "version": "3.9.7"
  }
 },
 "nbformat": 4,
 "nbformat_minor": 5
}
