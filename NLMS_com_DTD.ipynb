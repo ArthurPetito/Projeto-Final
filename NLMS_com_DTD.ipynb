{
 "cells": [
  {
   "cell_type": "code",
   "execution_count": 3,
   "id": "dd758a1e",
   "metadata": {},
   "outputs": [
    {
     "name": "stdout",
     "output_type": "stream",
     "text": [
      "[0 0 0]\n"
     ]
    }
   ],
   "source": [
    "import numpy as np\n",
    "import matplotlib.pyplot as plot\n",
    "import pyaudio as pa \n",
    "import wave\n",
    "\n",
    "N=256\n",
    "Ns=0\n",
    "w=np.zeros((N+1,),dtype=int)  # matrix 1line N+1 columns of 0 int /default is float64/\n",
    "#print(w)\n",
    "\n",
    "noise=wave.read(\"\",\"rb\")\n",
    "fs_noise=wave.getframerate()\n",
    "noise.close()\n",
    "signal=wave.read(\"\",\"rb\")\n",
    "fs_signal=wae.getframerate()\n",
    "signal.close()\n",
    "\n",
    "print(\"DONE!\")\n"
   ]
  }
 ],
 "metadata": {
  "kernelspec": {
   "display_name": "Python 3 (ipykernel)",
   "language": "python",
   "name": "python3"
  },
  "language_info": {
   "codemirror_mode": {
    "name": "ipython",
    "version": 3
   },
   "file_extension": ".py",
   "mimetype": "text/x-python",
   "name": "python",
   "nbconvert_exporter": "python",
   "pygments_lexer": "ipython3",
   "version": "3.9.7"
  }
 },
 "nbformat": 4,
 "nbformat_minor": 5
}
